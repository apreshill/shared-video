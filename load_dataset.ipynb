{
  "cells": [
    {
      "cell_type": "code",
      "execution_count": null,
      "metadata": {},
      "outputs": [],
      "source": [
        "from datasets import load_dataset\n",
        "\n",
        "ds = load_dataset(\"BrianGuo/Tennis_Data\")\n"
      ]
    },
    {
      "cell_type": "code",
      "execution_count": null,
      "metadata": {},
      "outputs": [],
      "source": [
        "# Extract video paths from dataset (avoids needing torchcodec)\n",
        "import os\n",
        "\n",
        "video_rows = []\n",
        "for i in range(len(ds['train'])):\n",
        "    video_dict = ds['train']._data.slice(i, 1).to_pydict()['video'][0]\n",
        "    video_path = video_dict['path']\n",
        "    video_rows.append({\n",
        "        'video': video_path,\n",
        "        'video_id': os.path.basename(video_path)\n",
        "    })\n",
        "\n",
        "print(f\"Extracted {len(video_rows)} video paths\")\n"
      ]
    },
    {
      "cell_type": "code",
      "execution_count": null,
      "metadata": {},
      "outputs": [],
      "source": [
        "# Install pixeltable (uncomment if needed)\n",
        "# %pip install pixeltable\n"
      ]
    },
    {
      "cell_type": "code",
      "execution_count": null,
      "metadata": {},
      "outputs": [],
      "source": [
        "# Import Pixeltable\n",
        "import pixeltable as pxt\n",
        "\n",
        "# Drop and recreate directory\n",
        "pxt.drop_dir('tennis_videos', force=True)\n",
        "pxt.create_dir('tennis_videos')\n",
        "\n",
        "# Create table with video column\n",
        "table = pxt.create_table(\n",
        "    'tennis_videos.videos',\n",
        "    {'video': pxt.Video, 'video_id': pxt.String}\n",
        ")\n",
        "\n",
        "# Insert video data\n",
        "table.insert(video_rows)\n",
        "print(f\"Inserted {table.count()} videos into Pixeltable\")\n"
      ]
    },
    {
      "cell_type": "code",
      "execution_count": null,
      "metadata": {},
      "outputs": [],
      "source": [
        "# View the table\n",
        "table.show()\n"
      ]
    },
    {
      "cell_type": "code",
      "execution_count": null,
      "metadata": {},
      "outputs": [],
      "source": [
        "# Get table info\n",
        "print(f\"Table name: {table.name}\")\n",
        "print(f\"Number of rows: {table.count()}\")\n",
        "print(f\"Columns: {list(table.column_names())}\")\n"
      ]
    },
    {
      "cell_type": "code",
      "execution_count": null,
      "metadata": {},
      "outputs": [],
      "source": [
        "# You can retrieve the table later using:\n",
        "# table = pxt.get_table('tennis_videos.videos')\n"
      ]
    },
    {
      "cell_type": "code",
      "execution_count": null,
      "metadata": {},
      "outputs": [],
      "source": [
        "\n"
      ]
    },
    {
      "cell_type": "code",
      "execution_count": null,
      "metadata": {},
      "outputs": [],
      "source": [
        "\n"
      ]
    },
    {
      "cell_type": "code",
      "execution_count": null,
      "metadata": {},
      "outputs": [],
      "source": [
        "\n"
      ]
    }
  ],
  "metadata": {
    "kernelspec": {
      "display_name": "Python 3",
      "language": "python",
      "name": "python3"
    },
    "language_info": {
      "codemirror_mode": {
        "name": "ipython",
        "version": 3
      },
      "file_extension": ".py",
      "mimetype": "text/x-python",
      "name": "python",
      "nbconvert_exporter": "python",
      "pygments_lexer": "ipython3",
      "version": "3.9.6"
    }
  },
  "nbformat": 4,
  "nbformat_minor": 2
}
